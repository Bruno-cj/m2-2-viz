{
 "cells": [
  {
   "cell_type": "markdown",
   "metadata": {},
   "source": [
    "# Exercise 1\n",
    "\n",
    "Plot the function\n",
    "\n",
    "$$\n",
    "f(x) = \\cos(\\pi \\theta x) \\exp(-x)\n",
    "$$\n",
    "\n",
    "over the interval $ [0, 5] $ for each $ \\theta $ in `np.linspace(0, 2, 10)`.\n",
    "\n",
    "Place all the curves in the same figure.\n",
    "\n",
    "The output should look like this\n",
    "\n",
    "![](matplotlib_ex1.png)"
   ]
  },
  {
   "cell_type": "markdown",
   "metadata": {},
   "source": [
    "# Exercise 2\n",
    "\n",
    "Reproduce the plot below:\n",
    "\n",
    "![](federer.png)\n",
    "\n",
    "Given the `data/tennis.csv` file.\n",
    "\n",
    "Note that the y axis is the ration of `double faults` that Federer did over his `total points total` in a match"
   ]
  },
  {
   "cell_type": "markdown",
   "metadata": {},
   "source": [
    "# Exercise 3\n",
    "\n",
    "With these imports:\n",
    "\n",
    "```python\n",
    "import datetime as dt\n",
    "from pandas_datareader import data\n",
    "```\n",
    "\n",
    "If needed, install the datareader with\n",
    "\n",
    "```\n",
    "!pip install --upgrade pandas-datareader\n",
    "```\n",
    "\n",
    "Write a program to calculate the percentage price change over 2019 for the following shares:\n",
    "\n",
    "```python\n",
    "ticker_list = {'INTC': 'Intel',\n",
    "               'MSFT': 'Microsoft',\n",
    "               'IBM': 'IBM',\n",
    "               'BHP': 'BHP',\n",
    "               'TM': 'Toyota',\n",
    "               'AAPL': 'Apple',\n",
    "               'AMZN': 'Amazon',\n",
    "               'BA': 'Boeing',\n",
    "               'QCOM': 'Qualcomm',\n",
    "               'KO': 'Coca-Cola',\n",
    "               'GOOG': 'Google',\n",
    "               'SNE': 'Sony',\n",
    "               'PTR': 'PetroChina'}\n",
    "```               \n",
    "\n",
    "Here’s the first part of the program:\n",
    "\n",
    "```python\n",
    "def read_data(ticker_list,\n",
    "          start=dt.datetime(2019, 1, 2),\n",
    "          end=dt.datetime(2019, 12, 31)):\n",
    "    \"\"\"\n",
    "    This function reads in closing price data from Yahoo\n",
    "    for each tick in the ticker_list.\n",
    "    \"\"\"\n",
    "    ticker = pd.DataFrame()\n",
    "\n",
    "    for tick in ticker_list:\n",
    "        prices = data.DataReader(tick, 'yahoo', start, end)\n",
    "        closing_prices = prices['Close']\n",
    "        ticker[tick] = closing_prices\n",
    "\n",
    "    return ticker\n",
    "\n",
    "ticker = read_data(ticker_list)\n",
    "```\n",
    "\n",
    "Complete the program to plot the result as a bar graph like this one for each:\n",
    "\n",
    "![](pandas_share_prices.png)\n"
   ]
  },
  {
   "cell_type": "markdown",
   "metadata": {},
   "source": [
    "# Exercise 4\n",
    "\n",
    "Using the method `read_data` introduced in Exercise 1, write a program to obtain year-on-year percentage change for the following indices:\n",
    "\n",
    "```\n",
    "indices_list = {'^GSPC': 'S&P 500',\n",
    "               '^IXIC': 'NASDAQ',\n",
    "               '^DJI': 'Dow Jones',\n",
    "               '^N225': 'Nikkei'}\n",
    "```\n",
    "\n",
    "Complete the program to show summary statistics and plot the result as a time series graph like this one:\n",
    "\n",
    "![](pandas_indices_pctchange.png)"
   ]
  },
  {
   "cell_type": "markdown",
   "metadata": {},
   "source": [
    "# Exercise 5: Multi Plot\n",
    "\n",
    "Recall exercise 2's plot.\n",
    "\n",
    "Make the same plot tracking double faults over time, except make one such plot for each surface type (indoor hard, outdoor clay, etc.)\n",
    "\n",
    "Have all 6 plots (one per surface type) be in the same matplotlib figure together, similar to the plot we saw in part 4 of the lecture."
   ]
  }
 ],
 "metadata": {
  "file_extension": ".py",
  "kernelspec": {
   "display_name": "Python 3",
   "language": "python",
   "name": "python3"
  },
  "language_info": {
   "codemirror_mode": {
    "name": "ipython",
    "version": 3
   },
   "file_extension": ".py",
   "mimetype": "text/x-python",
   "name": "python",
   "nbconvert_exporter": "python",
   "pygments_lexer": "ipython3",
   "version": "3.7.4"
  },
  "mimetype": "text/x-python",
  "name": "python",
  "npconvert_exporter": "python",
  "pygments_lexer": "ipython3",
  "version": 3
 },
 "nbformat": 4,
 "nbformat_minor": 2
}